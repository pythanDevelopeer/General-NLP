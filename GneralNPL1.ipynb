{
 "cells": [
  {
   "cell_type": "code",
   "execution_count": 1,
   "id": "3eb905c5-e3f4-4ab0-8501-0fa34d0ffbf6",
   "metadata": {},
   "outputs": [
    {
     "name": "stdout",
     "output_type": "stream",
     "text": [
      "Requirement already satisfied: allennlp in c:\\users\\babar\\anaconda3\\envs\\tensorfow\\lib\\site-packages (2.10.1)\n",
      "Requirement already satisfied: allennlp-models in c:\\users\\babar\\anaconda3\\envs\\tensorfow\\lib\\site-packages (2.10.1)\n",
      "Requirement already satisfied: torch<1.13.0,>=1.10.0 in c:\\users\\babar\\anaconda3\\envs\\tensorfow\\lib\\site-packages (from allennlp) (1.12.1)\n",
      "Requirement already satisfied: torchvision<0.14.0,>=0.8.1 in c:\\users\\babar\\anaconda3\\envs\\tensorfow\\lib\\site-packages (from allennlp) (0.13.1)\n",
      "Requirement already satisfied: cached-path<1.2.0,>=1.1.3 in c:\\users\\babar\\anaconda3\\envs\\tensorfow\\lib\\site-packages (from allennlp) (1.1.6)\n",
      "Requirement already satisfied: fairscale==0.4.6 in c:\\users\\babar\\anaconda3\\envs\\tensorfow\\lib\\site-packages (from allennlp) (0.4.6)\n",
      "Requirement already satisfied: nltk>=3.6.5 in c:\\users\\babar\\anaconda3\\envs\\tensorfow\\lib\\site-packages (from allennlp) (3.9.1)\n",
      "Requirement already satisfied: spacy<3.4,>=2.1.0 in c:\\users\\babar\\anaconda3\\envs\\tensorfow\\lib\\site-packages (from allennlp) (3.3.3)\n",
      "Requirement already satisfied: numpy>=1.21.4 in c:\\users\\babar\\anaconda3\\envs\\tensorfow\\lib\\site-packages (from allennlp) (1.24.3)\n",
      "Requirement already satisfied: tensorboardX>=1.2 in c:\\users\\babar\\anaconda3\\envs\\tensorfow\\lib\\site-packages (from allennlp) (2.6.2.2)\n",
      "Requirement already satisfied: requests>=2.28 in c:\\users\\babar\\anaconda3\\envs\\tensorfow\\lib\\site-packages (from allennlp) (2.32.3)\n",
      "Requirement already satisfied: tqdm>=4.62 in c:\\users\\babar\\anaconda3\\envs\\tensorfow\\lib\\site-packages (from allennlp) (4.66.5)\n",
      "Requirement already satisfied: h5py>=3.6.0 in c:\\users\\babar\\anaconda3\\envs\\tensorfow\\lib\\site-packages (from allennlp) (3.11.0)\n",
      "Requirement already satisfied: scikit-learn>=1.0.1 in c:\\users\\babar\\anaconda3\\envs\\tensorfow\\lib\\site-packages (from allennlp) (1.1.3)\n",
      "Requirement already satisfied: scipy>=1.7.3 in c:\\users\\babar\\anaconda3\\envs\\tensorfow\\lib\\site-packages (from allennlp) (1.10.1)\n",
      "Requirement already satisfied: pytest>=6.2.5 in c:\\users\\babar\\anaconda3\\envs\\tensorfow\\lib\\site-packages (from allennlp) (8.3.3)\n",
      "Requirement already satisfied: transformers<4.21,>=4.1 in c:\\users\\babar\\anaconda3\\envs\\tensorfow\\lib\\site-packages (from allennlp) (4.20.1)\n",
      "Requirement already satisfied: sentencepiece>=0.1.96 in c:\\users\\babar\\anaconda3\\envs\\tensorfow\\lib\\site-packages (from allennlp) (0.2.0)\n",
      "Requirement already satisfied: filelock<3.8,>=3.3 in c:\\users\\babar\\anaconda3\\envs\\tensorfow\\lib\\site-packages (from allennlp) (3.7.1)\n",
      "Requirement already satisfied: lmdb>=1.2.1 in c:\\users\\babar\\anaconda3\\envs\\tensorfow\\lib\\site-packages (from allennlp) (1.5.1)\n",
      "Requirement already satisfied: more-itertools>=8.12.0 in c:\\users\\babar\\anaconda3\\envs\\tensorfow\\lib\\site-packages (from allennlp) (10.5.0)\n",
      "Requirement already satisfied: termcolor==1.1.0 in c:\\users\\babar\\anaconda3\\envs\\tensorfow\\lib\\site-packages (from allennlp) (1.1.0)\n",
      "Requirement already satisfied: wandb<0.13.0,>=0.10.0 in c:\\users\\babar\\anaconda3\\envs\\tensorfow\\lib\\site-packages (from allennlp) (0.12.21)\n",
      "Requirement already satisfied: huggingface-hub>=0.0.16 in c:\\users\\babar\\anaconda3\\envs\\tensorfow\\lib\\site-packages (from allennlp) (0.10.1)\n",
      "Requirement already satisfied: dill>=0.3.4 in c:\\users\\babar\\anaconda3\\envs\\tensorfow\\lib\\site-packages (from allennlp) (0.3.6)\n",
      "Requirement already satisfied: base58>=2.1.1 in c:\\users\\babar\\anaconda3\\envs\\tensorfow\\lib\\site-packages (from allennlp) (2.1.1)\n",
      "Requirement already satisfied: sacremoses in c:\\users\\babar\\anaconda3\\envs\\tensorfow\\lib\\site-packages (from allennlp) (0.1.1)\n",
      "Requirement already satisfied: typer>=0.4.1 in c:\\users\\babar\\anaconda3\\envs\\tensorfow\\lib\\site-packages (from allennlp) (0.4.1)\n",
      "Requirement already satisfied: protobuf<4.0.0,>=3.12.0 in c:\\users\\babar\\anaconda3\\envs\\tensorfow\\lib\\site-packages (from allennlp) (3.20.3)\n",
      "Requirement already satisfied: traitlets>5.1.1 in c:\\users\\babar\\anaconda3\\envs\\tensorfow\\lib\\site-packages (from allennlp) (5.14.3)\n",
      "Requirement already satisfied: conllu==4.4.2 in c:\\users\\babar\\anaconda3\\envs\\tensorfow\\lib\\site-packages (from allennlp-models) (4.4.2)\n",
      "Requirement already satisfied: word2number>=1.1 in c:\\users\\babar\\anaconda3\\envs\\tensorfow\\lib\\site-packages (from allennlp-models) (1.1)\n",
      "Requirement already satisfied: py-rouge==1.1 in c:\\users\\babar\\anaconda3\\envs\\tensorfow\\lib\\site-packages (from allennlp-models) (1.1)\n",
      "Requirement already satisfied: ftfy in c:\\users\\babar\\anaconda3\\envs\\tensorfow\\lib\\site-packages (from allennlp-models) (6.2.3)\n",
      "Requirement already satisfied: datasets in c:\\users\\babar\\anaconda3\\envs\\tensorfow\\lib\\site-packages (from allennlp-models) (2.10.1)\n",
      "Requirement already satisfied: rich<13.0,>=12.1 in c:\\users\\babar\\anaconda3\\envs\\tensorfow\\lib\\site-packages (from cached-path<1.2.0,>=1.1.3->allennlp) (12.6.0)\n",
      "Requirement already satisfied: boto3<2.0,>=1.0 in c:\\users\\babar\\anaconda3\\envs\\tensorfow\\lib\\site-packages (from cached-path<1.2.0,>=1.1.3->allennlp) (1.35.22)\n",
      "Requirement already satisfied: google-cloud-storage<3.0,>=1.32.0 in c:\\users\\babar\\anaconda3\\envs\\tensorfow\\lib\\site-packages (from cached-path<1.2.0,>=1.1.3->allennlp) (2.18.2)\n",
      "Requirement already satisfied: pyyaml>=5.1 in c:\\users\\babar\\anaconda3\\envs\\tensorfow\\lib\\site-packages (from huggingface-hub>=0.0.16->allennlp) (6.0.1)\n",
      "Requirement already satisfied: typing-extensions>=3.7.4.3 in c:\\users\\babar\\anaconda3\\envs\\tensorfow\\lib\\site-packages (from huggingface-hub>=0.0.16->allennlp) (4.5.0)\n",
      "Requirement already satisfied: packaging>=20.9 in c:\\users\\babar\\anaconda3\\envs\\tensorfow\\lib\\site-packages (from huggingface-hub>=0.0.16->allennlp) (24.1)\n",
      "Requirement already satisfied: click in c:\\users\\babar\\anaconda3\\envs\\tensorfow\\lib\\site-packages (from nltk>=3.6.5->allennlp) (8.1.7)\n",
      "Requirement already satisfied: joblib in c:\\users\\babar\\anaconda3\\envs\\tensorfow\\lib\\site-packages (from nltk>=3.6.5->allennlp) (1.4.2)\n",
      "Requirement already satisfied: regex>=2021.8.3 in c:\\users\\babar\\anaconda3\\envs\\tensorfow\\lib\\site-packages (from nltk>=3.6.5->allennlp) (2024.7.24)\n",
      "Requirement already satisfied: iniconfig in c:\\users\\babar\\anaconda3\\envs\\tensorfow\\lib\\site-packages (from pytest>=6.2.5->allennlp) (2.0.0)\n",
      "Requirement already satisfied: pluggy<2,>=1.5 in c:\\users\\babar\\anaconda3\\envs\\tensorfow\\lib\\site-packages (from pytest>=6.2.5->allennlp) (1.5.0)\n",
      "Requirement already satisfied: exceptiongroup>=1.0.0rc8 in c:\\users\\babar\\anaconda3\\envs\\tensorfow\\lib\\site-packages (from pytest>=6.2.5->allennlp) (1.2.0)\n",
      "Requirement already satisfied: tomli>=1 in c:\\users\\babar\\anaconda3\\envs\\tensorfow\\lib\\site-packages (from pytest>=6.2.5->allennlp) (2.0.1)\n",
      "Requirement already satisfied: colorama in c:\\users\\babar\\anaconda3\\envs\\tensorfow\\lib\\site-packages (from pytest>=6.2.5->allennlp) (0.4.6)\n",
      "Requirement already satisfied: charset-normalizer<4,>=2 in c:\\users\\babar\\anaconda3\\envs\\tensorfow\\lib\\site-packages (from requests>=2.28->allennlp) (3.3.2)\n",
      "Requirement already satisfied: idna<4,>=2.5 in c:\\users\\babar\\anaconda3\\envs\\tensorfow\\lib\\site-packages (from requests>=2.28->allennlp) (3.7)\n",
      "Requirement already satisfied: urllib3<3,>=1.21.1 in c:\\users\\babar\\anaconda3\\envs\\tensorfow\\lib\\site-packages (from requests>=2.28->allennlp) (1.26.20)\n",
      "Requirement already satisfied: certifi>=2017.4.17 in c:\\users\\babar\\anaconda3\\envs\\tensorfow\\lib\\site-packages (from requests>=2.28->allennlp) (2024.8.30)\n",
      "Requirement already satisfied: threadpoolctl>=2.0.0 in c:\\users\\babar\\anaconda3\\envs\\tensorfow\\lib\\site-packages (from scikit-learn>=1.0.1->allennlp) (3.5.0)\n",
      "Requirement already satisfied: spacy-legacy<3.1.0,>=3.0.9 in c:\\users\\babar\\anaconda3\\envs\\tensorfow\\lib\\site-packages (from spacy<3.4,>=2.1.0->allennlp) (3.0.12)\n",
      "Requirement already satisfied: spacy-loggers<2.0.0,>=1.0.0 in c:\\users\\babar\\anaconda3\\envs\\tensorfow\\lib\\site-packages (from spacy<3.4,>=2.1.0->allennlp) (1.0.4)\n",
      "Requirement already satisfied: murmurhash<1.1.0,>=0.28.0 in c:\\users\\babar\\anaconda3\\envs\\tensorfow\\lib\\site-packages (from spacy<3.4,>=2.1.0->allennlp) (1.0.7)\n",
      "Requirement already satisfied: cymem<2.1.0,>=2.0.2 in c:\\users\\babar\\anaconda3\\envs\\tensorfow\\lib\\site-packages (from spacy<3.4,>=2.1.0->allennlp) (2.0.6)\n",
      "Requirement already satisfied: preshed<3.1.0,>=3.0.2 in c:\\users\\babar\\anaconda3\\envs\\tensorfow\\lib\\site-packages (from spacy<3.4,>=2.1.0->allennlp) (3.0.6)\n",
      "Requirement already satisfied: thinc<8.1.0,>=8.0.14 in c:\\users\\babar\\anaconda3\\envs\\tensorfow\\lib\\site-packages (from spacy<3.4,>=2.1.0->allennlp) (8.0.17)\n",
      "Requirement already satisfied: blis<0.8.0,>=0.4.0 in c:\\users\\babar\\anaconda3\\envs\\tensorfow\\lib\\site-packages (from spacy<3.4,>=2.1.0->allennlp) (0.7.9)\n",
      "Requirement already satisfied: wasabi<1.1.0,>=0.9.1 in c:\\users\\babar\\anaconda3\\envs\\tensorfow\\lib\\site-packages (from spacy<3.4,>=2.1.0->allennlp) (0.9.1)\n",
      "Requirement already satisfied: srsly<3.0.0,>=2.4.3 in c:\\users\\babar\\anaconda3\\envs\\tensorfow\\lib\\site-packages (from spacy<3.4,>=2.1.0->allennlp) (2.4.8)\n",
      "Requirement already satisfied: catalogue<2.1.0,>=2.0.6 in c:\\users\\babar\\anaconda3\\envs\\tensorfow\\lib\\site-packages (from spacy<3.4,>=2.1.0->allennlp) (2.0.10)\n",
      "Requirement already satisfied: pathy>=0.3.5 in c:\\users\\babar\\anaconda3\\envs\\tensorfow\\lib\\site-packages (from spacy<3.4,>=2.1.0->allennlp) (0.10.3)\n",
      "Requirement already satisfied: smart-open<7.0.0,>=5.2.1 in c:\\users\\babar\\anaconda3\\envs\\tensorfow\\lib\\site-packages (from spacy<3.4,>=2.1.0->allennlp) (5.2.1)\n",
      "Requirement already satisfied: pydantic!=1.8,!=1.8.1,<1.9.0,>=1.7.4 in c:\\users\\babar\\anaconda3\\envs\\tensorfow\\lib\\site-packages (from spacy<3.4,>=2.1.0->allennlp) (1.8.2)\n",
      "Requirement already satisfied: jinja2 in c:\\users\\babar\\anaconda3\\envs\\tensorfow\\lib\\site-packages (from spacy<3.4,>=2.1.0->allennlp) (3.1.4)\n",
      "Requirement already satisfied: setuptools in c:\\users\\babar\\anaconda3\\envs\\tensorfow\\lib\\site-packages (from spacy<3.4,>=2.1.0->allennlp) (72.1.0)\n",
      "Requirement already satisfied: langcodes<4.0.0,>=3.2.0 in c:\\users\\babar\\anaconda3\\envs\\tensorfow\\lib\\site-packages (from spacy<3.4,>=2.1.0->allennlp) (3.3.0)\n",
      "Requirement already satisfied: pillow!=8.3.*,>=5.3.0 in c:\\users\\babar\\anaconda3\\envs\\tensorfow\\lib\\site-packages (from torchvision<0.14.0,>=0.8.1->allennlp) (10.4.0)\n",
      "Requirement already satisfied: tokenizers!=0.11.3,<0.13,>=0.11.1 in c:\\users\\babar\\anaconda3\\envs\\tensorfow\\lib\\site-packages (from transformers<4.21,>=4.1->allennlp) (0.12.1)\n",
      "Requirement already satisfied: GitPython>=1.0.0 in c:\\users\\babar\\anaconda3\\envs\\tensorfow\\lib\\site-packages (from wandb<0.13.0,>=0.10.0->allennlp) (3.1.43)\n",
      "Requirement already satisfied: promise<3,>=2.0 in c:\\users\\babar\\anaconda3\\envs\\tensorfow\\lib\\site-packages (from wandb<0.13.0,>=0.10.0->allennlp) (2.3)\n",
      "Requirement already satisfied: shortuuid>=0.5.0 in c:\\users\\babar\\anaconda3\\envs\\tensorfow\\lib\\site-packages (from wandb<0.13.0,>=0.10.0->allennlp) (1.0.13)\n",
      "Requirement already satisfied: psutil>=5.0.0 in c:\\users\\babar\\anaconda3\\envs\\tensorfow\\lib\\site-packages (from wandb<0.13.0,>=0.10.0->allennlp) (5.9.0)\n",
      "Requirement already satisfied: sentry-sdk>=1.0.0 in c:\\users\\babar\\anaconda3\\envs\\tensorfow\\lib\\site-packages (from wandb<0.13.0,>=0.10.0->allennlp) (2.14.0)\n",
      "Requirement already satisfied: six>=1.13.0 in c:\\users\\babar\\anaconda3\\envs\\tensorfow\\lib\\site-packages (from wandb<0.13.0,>=0.10.0->allennlp) (1.16.0)\n",
      "Requirement already satisfied: docker-pycreds>=0.4.0 in c:\\users\\babar\\anaconda3\\envs\\tensorfow\\lib\\site-packages (from wandb<0.13.0,>=0.10.0->allennlp) (0.4.0)\n",
      "Requirement already satisfied: pathtools in c:\\users\\babar\\anaconda3\\envs\\tensorfow\\lib\\site-packages (from wandb<0.13.0,>=0.10.0->allennlp) (0.1.2)\n",
      "Requirement already satisfied: setproctitle in c:\\users\\babar\\anaconda3\\envs\\tensorfow\\lib\\site-packages (from wandb<0.13.0,>=0.10.0->allennlp) (1.3.3)\n",
      "Requirement already satisfied: pyarrow>=6.0.0 in c:\\users\\babar\\anaconda3\\envs\\tensorfow\\lib\\site-packages (from datasets->allennlp-models) (17.0.0)\n",
      "Requirement already satisfied: pandas in c:\\users\\babar\\anaconda3\\envs\\tensorfow\\lib\\site-packages (from datasets->allennlp-models) (2.0.3)\n",
      "Requirement already satisfied: xxhash in c:\\users\\babar\\anaconda3\\envs\\tensorfow\\lib\\site-packages (from datasets->allennlp-models) (3.5.0)\n",
      "Requirement already satisfied: multiprocess in c:\\users\\babar\\anaconda3\\envs\\tensorfow\\lib\\site-packages (from datasets->allennlp-models) (0.70.14)\n",
      "Requirement already satisfied: fsspec>=2021.11.1 in c:\\users\\babar\\anaconda3\\envs\\tensorfow\\lib\\site-packages (from fsspec[http]>=2021.11.1->datasets->allennlp-models) (2024.6.1)\n",
      "Requirement already satisfied: aiohttp in c:\\users\\babar\\anaconda3\\envs\\tensorfow\\lib\\site-packages (from datasets->allennlp-models) (3.9.5)\n",
      "Requirement already satisfied: responses<0.19 in c:\\users\\babar\\anaconda3\\envs\\tensorfow\\lib\\site-packages (from datasets->allennlp-models) (0.18.0)\n",
      "Requirement already satisfied: wcwidth<0.3.0,>=0.2.12 in c:\\users\\babar\\anaconda3\\envs\\tensorfow\\lib\\site-packages (from ftfy->allennlp-models) (0.2.13)\n",
      "Requirement already satisfied: botocore<1.36.0,>=1.35.22 in c:\\users\\babar\\anaconda3\\envs\\tensorfow\\lib\\site-packages (from boto3<2.0,>=1.0->cached-path<1.2.0,>=1.1.3->allennlp) (1.35.22)\n",
      "Requirement already satisfied: jmespath<2.0.0,>=0.7.1 in c:\\users\\babar\\anaconda3\\envs\\tensorfow\\lib\\site-packages (from boto3<2.0,>=1.0->cached-path<1.2.0,>=1.1.3->allennlp) (1.0.1)\n",
      "Requirement already satisfied: s3transfer<0.11.0,>=0.10.0 in c:\\users\\babar\\anaconda3\\envs\\tensorfow\\lib\\site-packages (from boto3<2.0,>=1.0->cached-path<1.2.0,>=1.1.3->allennlp) (0.10.2)\n",
      "Requirement already satisfied: aiosignal>=1.1.2 in c:\\users\\babar\\anaconda3\\envs\\tensorfow\\lib\\site-packages (from aiohttp->datasets->allennlp-models) (1.2.0)\n",
      "Requirement already satisfied: attrs>=17.3.0 in c:\\users\\babar\\anaconda3\\envs\\tensorfow\\lib\\site-packages (from aiohttp->datasets->allennlp-models) (23.1.0)\n",
      "Requirement already satisfied: frozenlist>=1.1.1 in c:\\users\\babar\\anaconda3\\envs\\tensorfow\\lib\\site-packages (from aiohttp->datasets->allennlp-models) (1.4.0)\n",
      "Requirement already satisfied: multidict<7.0,>=4.5 in c:\\users\\babar\\anaconda3\\envs\\tensorfow\\lib\\site-packages (from aiohttp->datasets->allennlp-models) (6.0.4)\n",
      "Requirement already satisfied: yarl<2.0,>=1.0 in c:\\users\\babar\\anaconda3\\envs\\tensorfow\\lib\\site-packages (from aiohttp->datasets->allennlp-models) (1.9.3)\n",
      "Requirement already satisfied: async-timeout<5.0,>=4.0 in c:\\users\\babar\\anaconda3\\envs\\tensorfow\\lib\\site-packages (from aiohttp->datasets->allennlp-models) (4.0.3)\n",
      "Requirement already satisfied: gitdb<5,>=4.0.1 in c:\\users\\babar\\anaconda3\\envs\\tensorfow\\lib\\site-packages (from GitPython>=1.0.0->wandb<0.13.0,>=0.10.0->allennlp) (4.0.11)\n",
      "Requirement already satisfied: google-auth<3.0dev,>=2.26.1 in c:\\users\\babar\\anaconda3\\envs\\tensorfow\\lib\\site-packages (from google-cloud-storage<3.0,>=1.32.0->cached-path<1.2.0,>=1.1.3->allennlp) (2.29.0)\n",
      "Requirement already satisfied: google-api-core<3.0.0dev,>=2.15.0 in c:\\users\\babar\\anaconda3\\envs\\tensorfow\\lib\\site-packages (from google-cloud-storage<3.0,>=1.32.0->cached-path<1.2.0,>=1.1.3->allennlp) (2.19.2)\n",
      "Requirement already satisfied: google-cloud-core<3.0dev,>=2.3.0 in c:\\users\\babar\\anaconda3\\envs\\tensorfow\\lib\\site-packages (from google-cloud-storage<3.0,>=1.32.0->cached-path<1.2.0,>=1.1.3->allennlp) (2.4.1)\n",
      "Requirement already satisfied: google-resumable-media>=2.7.2 in c:\\users\\babar\\anaconda3\\envs\\tensorfow\\lib\\site-packages (from google-cloud-storage<3.0,>=1.32.0->cached-path<1.2.0,>=1.1.3->allennlp) (2.7.2)\n",
      "Requirement already satisfied: google-crc32c<2.0dev,>=1.0 in c:\\users\\babar\\anaconda3\\envs\\tensorfow\\lib\\site-packages (from google-cloud-storage<3.0,>=1.32.0->cached-path<1.2.0,>=1.1.3->allennlp) (1.5.0)\n",
      "Requirement already satisfied: commonmark<0.10.0,>=0.9.0 in c:\\users\\babar\\anaconda3\\envs\\tensorfow\\lib\\site-packages (from rich<13.0,>=12.1->cached-path<1.2.0,>=1.1.3->allennlp) (0.9.1)\n",
      "Requirement already satisfied: pygments<3.0.0,>=2.6.0 in c:\\users\\babar\\anaconda3\\envs\\tensorfow\\lib\\site-packages (from rich<13.0,>=12.1->cached-path<1.2.0,>=1.1.3->allennlp) (2.15.1)\n",
      "Requirement already satisfied: MarkupSafe>=2.0 in c:\\users\\babar\\anaconda3\\envs\\tensorfow\\lib\\site-packages (from jinja2->spacy<3.4,>=2.1.0->allennlp) (2.1.3)\n",
      "Requirement already satisfied: python-dateutil>=2.8.2 in c:\\users\\babar\\anaconda3\\envs\\tensorfow\\lib\\site-packages (from pandas->datasets->allennlp-models) (2.9.0.post0)\n",
      "Requirement already satisfied: pytz>=2020.1 in c:\\users\\babar\\anaconda3\\envs\\tensorfow\\lib\\site-packages (from pandas->datasets->allennlp-models) (2024.1)\n",
      "Requirement already satisfied: tzdata>=2022.1 in c:\\users\\babar\\anaconda3\\envs\\tensorfow\\lib\\site-packages (from pandas->datasets->allennlp-models) (2023.3)\n",
      "Requirement already satisfied: smmap<6,>=3.0.1 in c:\\users\\babar\\anaconda3\\envs\\tensorfow\\lib\\site-packages (from gitdb<5,>=4.0.1->GitPython>=1.0.0->wandb<0.13.0,>=0.10.0->allennlp) (5.0.1)\n",
      "Requirement already satisfied: googleapis-common-protos<2.0.dev0,>=1.56.2 in c:\\users\\babar\\anaconda3\\envs\\tensorfow\\lib\\site-packages (from google-api-core<3.0.0dev,>=2.15.0->google-cloud-storage<3.0,>=1.32.0->cached-path<1.2.0,>=1.1.3->allennlp) (1.65.0)\n",
      "Requirement already satisfied: proto-plus<2.0.0dev,>=1.22.3 in c:\\users\\babar\\anaconda3\\envs\\tensorfow\\lib\\site-packages (from google-api-core<3.0.0dev,>=2.15.0->google-cloud-storage<3.0,>=1.32.0->cached-path<1.2.0,>=1.1.3->allennlp) (1.24.0)\n",
      "Requirement already satisfied: cachetools<6.0,>=2.0.0 in c:\\users\\babar\\anaconda3\\envs\\tensorfow\\lib\\site-packages (from google-auth<3.0dev,>=2.26.1->google-cloud-storage<3.0,>=1.32.0->cached-path<1.2.0,>=1.1.3->allennlp) (5.3.3)\n",
      "Requirement already satisfied: pyasn1-modules>=0.2.1 in c:\\users\\babar\\anaconda3\\envs\\tensorfow\\lib\\site-packages (from google-auth<3.0dev,>=2.26.1->google-cloud-storage<3.0,>=1.32.0->cached-path<1.2.0,>=1.1.3->allennlp) (0.2.8)\n",
      "Requirement already satisfied: rsa<5,>=3.1.4 in c:\\users\\babar\\anaconda3\\envs\\tensorfow\\lib\\site-packages (from google-auth<3.0dev,>=2.26.1->google-cloud-storage<3.0,>=1.32.0->cached-path<1.2.0,>=1.1.3->allennlp) (4.7.2)\n",
      "Requirement already satisfied: pyasn1<0.5.0,>=0.4.6 in c:\\users\\babar\\anaconda3\\envs\\tensorfow\\lib\\site-packages (from pyasn1-modules>=0.2.1->google-auth<3.0dev,>=2.26.1->google-cloud-storage<3.0,>=1.32.0->cached-path<1.2.0,>=1.1.3->allennlp) (0.4.8)\n"
     ]
    }
   ],
   "source": [
    "!pip install allennlp allennlp-models"
   ]
  },
  {
   "cell_type": "code",
   "execution_count": 2,
   "id": "af549574-3821-4ad8-bc20-f8813704e984",
   "metadata": {},
   "outputs": [
    {
     "data": {
      "text/html": [
       "<pre style=\"white-space:pre;overflow-x:auto;line-height:normal;font-family:Menlo,'DejaVu Sans Mono',consolas,'Courier New',monospace\"></pre>\n"
      ],
      "text/plain": [
       "\u001b[?25l"
      ]
     },
     "metadata": {},
     "output_type": "display_data"
    },
    {
     "data": {
      "application/vnd.jupyter.widget-view+json": {
       "model_id": "0c0423d122214c5b912ef92ced359ba8",
       "version_major": 2,
       "version_minor": 0
      },
      "text/plain": [
       "Output()"
      ]
     },
     "metadata": {},
     "output_type": "display_data"
    },
    {
     "data": {
      "text/html": [
       "<pre style=\"white-space:pre;overflow-x:auto;line-height:normal;font-family:Menlo,'DejaVu Sans Mono',consolas,'Courier New',monospace\">\n",
       "</pre>\n"
      ],
      "text/plain": [
       "\n",
       "\u001b[?25h"
      ]
     },
     "metadata": {},
     "output_type": "display_data"
    },
    {
     "name": "stderr",
     "output_type": "stream",
     "text": [
      "error loading _jsonnet (this is expected on Windows), treating C:\\Users\\babar\\AppData\\Local\\Temp\\tmp0a_ctryy\\config.json as plain json\n"
     ]
    },
    {
     "data": {
      "application/vnd.jupyter.widget-view+json": {
       "model_id": "d80a07440c6b43b6b2e76dafbdecabe1",
       "version_major": 2,
       "version_minor": 0
      },
      "text/plain": [
       "Downloading:   0%|          | 0.00/414 [00:00<?, ?B/s]"
      ]
     },
     "metadata": {},
     "output_type": "display_data"
    },
    {
     "data": {
      "application/vnd.jupyter.widget-view+json": {
       "model_id": "c9d8fd818dce4411afc97986f149a175",
       "version_major": 2,
       "version_minor": 0
      },
      "text/plain": [
       "Downloading:   0%|          | 0.00/208k [00:00<?, ?B/s]"
      ]
     },
     "metadata": {},
     "output_type": "display_data"
    },
    {
     "data": {
      "application/vnd.jupyter.widget-view+json": {
       "model_id": "295d9751456c440dad1c5076db2013a8",
       "version_major": 2,
       "version_minor": 0
      },
      "text/plain": [
       "Downloading:   0%|          | 0.00/634M [00:00<?, ?B/s]"
      ]
     },
     "metadata": {},
     "output_type": "display_data"
    },
    {
     "name": "stderr",
     "output_type": "stream",
     "text": [
      "Some weights of BertModel were not initialized from the model checkpoint at SpanBERT/spanbert-large-cased and are newly initialized: ['bert.pooler.dense.bias', 'bert.pooler.dense.weight']\n",
      "You should probably TRAIN this model on a down-stream task to be able to use it for predictions and inference.\n",
      "C:\\Users\\babar\\anaconda3\\envs\\tensorfow\\lib\\site-packages\\spacy\\util.py:837: UserWarning: [W095] Model 'en_core_web_sm' (3.5.0) was trained with spaCy v3.5 and may not be 100% compatible with the current version (3.3.3). If you see errors or degraded performance, download a newer compatible model or retrain your custom model with the current spaCy version. For more details and available updates, run: python -m spacy validate\n",
      "  warnings.warn(warn_msg)\n"
     ]
    },
    {
     "name": "stdout",
     "output_type": "stream",
     "text": [
      "[]\n"
     ]
    }
   ],
   "source": [
    "from allennlp.predictors.predictor import Predictor\n",
    "import allennlp_models.coref\n",
    "\n",
    "# Load the AllenNLP coreference resolution model\n",
    "predictor = Predictor.from_path(\"https://storage.googleapis.com/allennlp-public-models/coref-spanbert-large-2021.03.10.tar.gz\")\n",
    "\n",
    "# Example tweet text\n",
    "tweet_text = \"I support the #MeToo movement and she should be respected.\"\n",
    "\n",
    "# Perform coreference resolution\n",
    "result = predictor.predict(document=tweet_text)\n",
    "\n",
    "# Print the coreference clusters\n",
    "print(result['clusters'])"
   ]
  },
  {
   "cell_type": "code",
   "execution_count": null,
   "id": "35f2ce1d-ec9d-4507-86ae-bb4d17d90745",
   "metadata": {},
   "outputs": [],
   "source": []
  }
 ],
 "metadata": {
  "kernelspec": {
   "display_name": "Python 3 (ipykernel)",
   "language": "python",
   "name": "python3"
  },
  "language_info": {
   "codemirror_mode": {
    "name": "ipython",
    "version": 3
   },
   "file_extension": ".py",
   "mimetype": "text/x-python",
   "name": "python",
   "nbconvert_exporter": "python",
   "pygments_lexer": "ipython3",
   "version": "3.8.18"
  }
 },
 "nbformat": 4,
 "nbformat_minor": 5
}
